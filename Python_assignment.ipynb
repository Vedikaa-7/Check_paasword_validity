{
  "nbformat": 4,
  "nbformat_minor": 0,
  "metadata": {
    "colab": {
      "name": "Python assignment.ipynb",
      "provenance": [],
      "authorship_tag": "ABX9TyM4pS/rpZu3CkFa/VwdlBMu",
      "include_colab_link": true
    },
    "kernelspec": {
      "name": "python3",
      "display_name": "Python 3"
    },
    "language_info": {
      "name": "python"
    }
  },
  "cells": [
    {
      "cell_type": "markdown",
      "metadata": {
        "id": "view-in-github",
        "colab_type": "text"
      },
      "source": [
        "<a href=\"https://colab.research.google.com/github/Vedikaa-7/Check_paasword_validity/blob/main/Python_assignment.ipynb\" target=\"_parent\"><img src=\"https://colab.research.google.com/assets/colab-badge.svg\" alt=\"Open In Colab\"/></a>"
      ]
    },
    {
      "cell_type": "code",
      "metadata": {
        "id": "0uTywyO3MoRv"
      },
      "source": [
        ""
      ],
      "execution_count": null,
      "outputs": []
    },
    {
      "cell_type": "code",
      "metadata": {
        "id": "jgU3fpvpR91J"
      },
      "source": [
        "# you have to create a progarm to check validity of password\n",
        "# take input from user there should be one letter in smaller case and one leter in capital case.\n",
        "# letter should have atleast one number. alos have @,!,'#'\n",
        "# minumum length should be 8 characters and maximum length go upto 15 chacrters but make sure 'space' should not be included in it.\n",
        "\n",
        "\n",
        "pwd = input()\n",
        "l=u=d=spc=0\n",
        "if(len(pwd)>=8 and pwd.len(pw)<=15):\n",
        "  for i in pwd:\n",
        "    if(i.islower()):\n",
        "      l+=1\n",
        "    if(i.isupper()):\n",
        "      u+=1\n",
        "    if(i.isdigit()):\n",
        "      d+=1\n",
        "    if(i=='@' or i=='#' or i=='!'):\n",
        "      spc+=1\n",
        "if(l>=1 and d>=1 and u>=1 and spc>=1):\n",
        "  print(\"valid password.\")\n",
        "else:\n",
        "  print(\"Invalid password\")\n"
      ],
      "execution_count": null,
      "outputs": []
    },
    {
      "cell_type": "code",
      "metadata": {
        "id": "tgMn3MEEMswF"
      },
      "source": [
        ""
      ],
      "execution_count": null,
      "outputs": []
    }
  ]
}